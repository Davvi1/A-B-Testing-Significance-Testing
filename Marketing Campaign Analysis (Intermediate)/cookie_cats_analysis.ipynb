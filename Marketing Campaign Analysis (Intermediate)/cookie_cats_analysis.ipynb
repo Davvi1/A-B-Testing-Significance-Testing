{
 "cells": [
  {
   "cell_type": "markdown",
   "id": "4105b8a3-bda5-4edc-8494-ec3472fa21c1",
   "metadata": {},
   "source": [
    "# Cookie Cats Video A/B game testing"
   ]
  },
  {
   "cell_type": "markdown",
   "id": "edd84f00-dbd5-4b5a-b414-11cd10fe1885",
   "metadata": {},
   "source": [
    "The dataset here showcases an A/B test result of the Cookie Cats game to examine what happens when the first gate in the game was moved from level 30 to level 40. When a player installed the game, he or she was randomly assigned to either gate_30 or gate_40. Consequently, this code analyses the impact of this on total amount of playtime and whether users were retained over time."
   ]
  },
  {
   "cell_type": "code",
   "execution_count": 1,
   "id": "89810581-b6f1-4ef7-ae91-09f7bd7025ca",
   "metadata": {},
   "outputs": [],
   "source": [
    "import pandas as pd\n",
    "import numpy as np\n",
    "from scipy import stats\n",
    "import statsmodels.api as sm\n",
    "from statsmodels.formula.api import ols\n",
    "from scipy.stats import ttest_ind\n",
    "import matplotlib.pyplot as plt\n",
    "import plotly.graph_objects as go\n",
    "import seaborn as sns"
   ]
  },
  {
   "cell_type": "code",
   "execution_count": 2,
   "id": "1bafe51f-2af5-4dc1-bbcb-8e5e2a20f679",
   "metadata": {},
   "outputs": [
    {
     "data": {
      "text/html": [
       "<div>\n",
       "<style scoped>\n",
       "    .dataframe tbody tr th:only-of-type {\n",
       "        vertical-align: middle;\n",
       "    }\n",
       "\n",
       "    .dataframe tbody tr th {\n",
       "        vertical-align: top;\n",
       "    }\n",
       "\n",
       "    .dataframe thead th {\n",
       "        text-align: right;\n",
       "    }\n",
       "</style>\n",
       "<table border=\"1\" class=\"dataframe\">\n",
       "  <thead>\n",
       "    <tr style=\"text-align: right;\">\n",
       "      <th></th>\n",
       "      <th>userid</th>\n",
       "      <th>version</th>\n",
       "      <th>sum_gamerounds</th>\n",
       "      <th>retention_1</th>\n",
       "      <th>retention_7</th>\n",
       "    </tr>\n",
       "  </thead>\n",
       "  <tbody>\n",
       "    <tr>\n",
       "      <th>0</th>\n",
       "      <td>116</td>\n",
       "      <td>gate_30</td>\n",
       "      <td>3</td>\n",
       "      <td>False</td>\n",
       "      <td>False</td>\n",
       "    </tr>\n",
       "    <tr>\n",
       "      <th>1</th>\n",
       "      <td>337</td>\n",
       "      <td>gate_30</td>\n",
       "      <td>38</td>\n",
       "      <td>True</td>\n",
       "      <td>False</td>\n",
       "    </tr>\n",
       "    <tr>\n",
       "      <th>2</th>\n",
       "      <td>377</td>\n",
       "      <td>gate_40</td>\n",
       "      <td>165</td>\n",
       "      <td>True</td>\n",
       "      <td>False</td>\n",
       "    </tr>\n",
       "    <tr>\n",
       "      <th>3</th>\n",
       "      <td>483</td>\n",
       "      <td>gate_40</td>\n",
       "      <td>1</td>\n",
       "      <td>False</td>\n",
       "      <td>False</td>\n",
       "    </tr>\n",
       "    <tr>\n",
       "      <th>4</th>\n",
       "      <td>488</td>\n",
       "      <td>gate_40</td>\n",
       "      <td>179</td>\n",
       "      <td>True</td>\n",
       "      <td>True</td>\n",
       "    </tr>\n",
       "    <tr>\n",
       "      <th>...</th>\n",
       "      <td>...</td>\n",
       "      <td>...</td>\n",
       "      <td>...</td>\n",
       "      <td>...</td>\n",
       "      <td>...</td>\n",
       "    </tr>\n",
       "    <tr>\n",
       "      <th>90184</th>\n",
       "      <td>9999441</td>\n",
       "      <td>gate_40</td>\n",
       "      <td>97</td>\n",
       "      <td>True</td>\n",
       "      <td>False</td>\n",
       "    </tr>\n",
       "    <tr>\n",
       "      <th>90185</th>\n",
       "      <td>9999479</td>\n",
       "      <td>gate_40</td>\n",
       "      <td>30</td>\n",
       "      <td>False</td>\n",
       "      <td>False</td>\n",
       "    </tr>\n",
       "    <tr>\n",
       "      <th>90186</th>\n",
       "      <td>9999710</td>\n",
       "      <td>gate_30</td>\n",
       "      <td>28</td>\n",
       "      <td>True</td>\n",
       "      <td>False</td>\n",
       "    </tr>\n",
       "    <tr>\n",
       "      <th>90187</th>\n",
       "      <td>9999768</td>\n",
       "      <td>gate_40</td>\n",
       "      <td>51</td>\n",
       "      <td>True</td>\n",
       "      <td>False</td>\n",
       "    </tr>\n",
       "    <tr>\n",
       "      <th>90188</th>\n",
       "      <td>9999861</td>\n",
       "      <td>gate_40</td>\n",
       "      <td>16</td>\n",
       "      <td>False</td>\n",
       "      <td>False</td>\n",
       "    </tr>\n",
       "  </tbody>\n",
       "</table>\n",
       "<p>90189 rows × 5 columns</p>\n",
       "</div>"
      ],
      "text/plain": [
       "        userid  version  sum_gamerounds  retention_1  retention_7\n",
       "0          116  gate_30               3        False        False\n",
       "1          337  gate_30              38         True        False\n",
       "2          377  gate_40             165         True        False\n",
       "3          483  gate_40               1        False        False\n",
       "4          488  gate_40             179         True         True\n",
       "...        ...      ...             ...          ...          ...\n",
       "90184  9999441  gate_40              97         True        False\n",
       "90185  9999479  gate_40              30        False        False\n",
       "90186  9999710  gate_30              28         True        False\n",
       "90187  9999768  gate_40              51         True        False\n",
       "90188  9999861  gate_40              16        False        False\n",
       "\n",
       "[90189 rows x 5 columns]"
      ]
     },
     "execution_count": 2,
     "metadata": {},
     "output_type": "execute_result"
    }
   ],
   "source": [
    "data = pd.read_csv(\"cookie_cats.csv\")\n",
    "data"
   ]
  },
  {
   "cell_type": "markdown",
   "id": "af443076-4be2-4169-9d5a-ae02b7937a50",
   "metadata": {},
   "source": [
    "## Cleaning"
   ]
  },
  {
   "cell_type": "code",
   "execution_count": 3,
   "id": "e87bb21d-9ff8-48c6-ac82-c4b14f70a5f7",
   "metadata": {},
   "outputs": [
    {
     "name": "stdout",
     "output_type": "stream",
     "text": [
      "there are 90189 rows in the dataset\n",
      "Duplicate rows: 0\n",
      "NaN values per column:\n",
      " userid            0\n",
      "version           0\n",
      "sum_gamerounds    0\n",
      "retention_1       0\n",
      "retention_7       0\n",
      "dtype: int64\n",
      "version\n",
      "gate_40    45489\n",
      "gate_30    44700\n",
      "Name: count, dtype: int64\n"
     ]
    }
   ],
   "source": [
    "print(f\"there are {data.index.size} rows in the dataset\")\n",
    "print(\"Duplicate rows:\", data.duplicated().sum())\n",
    "print(\"NaN values per column:\\n\", data.isna().sum())\n",
    "version_counts = data['version'].value_counts()\n",
    "print(version_counts)"
   ]
  },
  {
   "cell_type": "markdown",
   "id": "d9a13448-044f-41cc-8691-42668333fa9f",
   "metadata": {},
   "source": [
    "As the purpose of this report is to study the influence of a factor on actual game time, it is only relevant to only look at people who actually played the game. However, in this dataset, as can be seen below, there are a large number of players who did not play a single round. As a consequence, I remove all these."
   ]
  },
  {
   "cell_type": "code",
   "execution_count": 4,
   "id": "a07b1c2c-b58d-4ff4-9e87-e4dd77b3d1e0",
   "metadata": {},
   "outputs": [
    {
     "name": "stdout",
     "output_type": "stream",
     "text": [
      "There are 3994 who have not played a single round\n",
      "These have now been successfully removed\n"
     ]
    }
   ],
   "source": [
    "zeros_count = data['sum_gamerounds'].eq(0).sum()\n",
    "print(f\"There are {zeros_count} who have not played a single round\")\n",
    "data = data[data['sum_gamerounds'] != 0]\n",
    "print(\"These have now been successfully removed\")"
   ]
  },
  {
   "cell_type": "markdown",
   "id": "a9111d35-2f0d-4364-abdd-2641772e6051",
   "metadata": {},
   "source": [
    "I also convert the boolean indices into numbers so that they can be studied later (i.e., making all True's into a 1, and all 'False's into a 0)."
   ]
  },
  {
   "cell_type": "code",
   "execution_count": 5,
   "id": "e0f11296-885c-4b31-91ad-d17a85e85dde",
   "metadata": {},
   "outputs": [
    {
     "name": "stderr",
     "output_type": "stream",
     "text": [
      "C:\\Users\\david\\AppData\\Local\\Temp\\ipykernel_17188\\3882844810.py:1: FutureWarning: Setting an item of incompatible dtype is deprecated and will raise in a future error of pandas. Value '[0 1 1 ... 1 1 0]' has dtype incompatible with bool, please explicitly cast to a compatible dtype first.\n",
      "  data.loc[:, ['retention_1', 'retention_7']] = data[['retention_1', 'retention_7']].astype(int)\n",
      "C:\\Users\\david\\AppData\\Local\\Temp\\ipykernel_17188\\3882844810.py:1: FutureWarning: Setting an item of incompatible dtype is deprecated and will raise in a future error of pandas. Value '[0 0 0 ... 0 0 0]' has dtype incompatible with bool, please explicitly cast to a compatible dtype first.\n",
      "  data.loc[:, ['retention_1', 'retention_7']] = data[['retention_1', 'retention_7']].astype(int)\n"
     ]
    }
   ],
   "source": [
    "data.loc[:, ['retention_1', 'retention_7']] = data[['retention_1', 'retention_7']].astype(int)"
   ]
  },
  {
   "cell_type": "code",
   "execution_count": 6,
   "id": "8e9eb03e-0e7f-4409-a3e3-7f8ab45005f7",
   "metadata": {},
   "outputs": [
    {
     "data": {
      "text/html": [
       "<div>\n",
       "<style scoped>\n",
       "    .dataframe tbody tr th:only-of-type {\n",
       "        vertical-align: middle;\n",
       "    }\n",
       "\n",
       "    .dataframe tbody tr th {\n",
       "        vertical-align: top;\n",
       "    }\n",
       "\n",
       "    .dataframe thead th {\n",
       "        text-align: right;\n",
       "    }\n",
       "</style>\n",
       "<table border=\"1\" class=\"dataframe\">\n",
       "  <thead>\n",
       "    <tr style=\"text-align: right;\">\n",
       "      <th></th>\n",
       "      <th>userid</th>\n",
       "      <th>version</th>\n",
       "      <th>sum_gamerounds</th>\n",
       "      <th>retention_1</th>\n",
       "      <th>retention_7</th>\n",
       "    </tr>\n",
       "  </thead>\n",
       "  <tbody>\n",
       "    <tr>\n",
       "      <th>0</th>\n",
       "      <td>116</td>\n",
       "      <td>gate_30</td>\n",
       "      <td>3</td>\n",
       "      <td>0</td>\n",
       "      <td>0</td>\n",
       "    </tr>\n",
       "    <tr>\n",
       "      <th>1</th>\n",
       "      <td>337</td>\n",
       "      <td>gate_30</td>\n",
       "      <td>38</td>\n",
       "      <td>1</td>\n",
       "      <td>0</td>\n",
       "    </tr>\n",
       "    <tr>\n",
       "      <th>2</th>\n",
       "      <td>377</td>\n",
       "      <td>gate_40</td>\n",
       "      <td>165</td>\n",
       "      <td>1</td>\n",
       "      <td>0</td>\n",
       "    </tr>\n",
       "    <tr>\n",
       "      <th>3</th>\n",
       "      <td>483</td>\n",
       "      <td>gate_40</td>\n",
       "      <td>1</td>\n",
       "      <td>0</td>\n",
       "      <td>0</td>\n",
       "    </tr>\n",
       "    <tr>\n",
       "      <th>4</th>\n",
       "      <td>488</td>\n",
       "      <td>gate_40</td>\n",
       "      <td>179</td>\n",
       "      <td>1</td>\n",
       "      <td>1</td>\n",
       "    </tr>\n",
       "    <tr>\n",
       "      <th>...</th>\n",
       "      <td>...</td>\n",
       "      <td>...</td>\n",
       "      <td>...</td>\n",
       "      <td>...</td>\n",
       "      <td>...</td>\n",
       "    </tr>\n",
       "    <tr>\n",
       "      <th>90184</th>\n",
       "      <td>9999441</td>\n",
       "      <td>gate_40</td>\n",
       "      <td>97</td>\n",
       "      <td>1</td>\n",
       "      <td>0</td>\n",
       "    </tr>\n",
       "    <tr>\n",
       "      <th>90185</th>\n",
       "      <td>9999479</td>\n",
       "      <td>gate_40</td>\n",
       "      <td>30</td>\n",
       "      <td>0</td>\n",
       "      <td>0</td>\n",
       "    </tr>\n",
       "    <tr>\n",
       "      <th>90186</th>\n",
       "      <td>9999710</td>\n",
       "      <td>gate_30</td>\n",
       "      <td>28</td>\n",
       "      <td>1</td>\n",
       "      <td>0</td>\n",
       "    </tr>\n",
       "    <tr>\n",
       "      <th>90187</th>\n",
       "      <td>9999768</td>\n",
       "      <td>gate_40</td>\n",
       "      <td>51</td>\n",
       "      <td>1</td>\n",
       "      <td>0</td>\n",
       "    </tr>\n",
       "    <tr>\n",
       "      <th>90188</th>\n",
       "      <td>9999861</td>\n",
       "      <td>gate_40</td>\n",
       "      <td>16</td>\n",
       "      <td>0</td>\n",
       "      <td>0</td>\n",
       "    </tr>\n",
       "  </tbody>\n",
       "</table>\n",
       "<p>86195 rows × 5 columns</p>\n",
       "</div>"
      ],
      "text/plain": [
       "        userid  version  sum_gamerounds  retention_1  retention_7\n",
       "0          116  gate_30               3            0            0\n",
       "1          337  gate_30              38            1            0\n",
       "2          377  gate_40             165            1            0\n",
       "3          483  gate_40               1            0            0\n",
       "4          488  gate_40             179            1            1\n",
       "...        ...      ...             ...          ...          ...\n",
       "90184  9999441  gate_40              97            1            0\n",
       "90185  9999479  gate_40              30            0            0\n",
       "90186  9999710  gate_30              28            1            0\n",
       "90187  9999768  gate_40              51            1            0\n",
       "90188  9999861  gate_40              16            0            0\n",
       "\n",
       "[86195 rows x 5 columns]"
      ]
     },
     "execution_count": 6,
     "metadata": {},
     "output_type": "execute_result"
    }
   ],
   "source": [
    "data"
   ]
  },
  {
   "cell_type": "markdown",
   "id": "4bdf03a1-d890-4336-8e1e-d3a801a16259",
   "metadata": {},
   "source": [
    "### Distribution and Outliers of Data"
   ]
  },
  {
   "cell_type": "markdown",
   "id": "f43a2709-e8a8-4821-b44c-f92e9625d739",
   "metadata": {},
   "source": [
    "As can be seen in the chart below, there are a variety of significant outliers, including one seemingly-mistaken datapoint having circa 50,000 games played (could be a bot). To get a better view, and as I intend to test for significance later using the Mann Whitney U Test (which is slightly skewed by the presence of outliers, these will be removed."
   ]
  },
  {
   "cell_type": "code",
   "execution_count": 7,
   "id": "c23434f0-5556-4478-8d3b-57436f617bc9",
   "metadata": {},
   "outputs": [
    {
     "name": "stdout",
     "output_type": "stream",
     "text": [
      "Promotion gate_30 - Outliers: 4921\n",
      "Promotion gate_40 - Outliers: 4727\n"
     ]
    },
    {
     "name": "stderr",
     "output_type": "stream",
     "text": [
      "C:\\Users\\david\\AppData\\Local\\Temp\\ipykernel_17188\\2881423565.py:15: DeprecationWarning: DataFrameGroupBy.apply operated on the grouping columns. This behavior is deprecated, and in a future version of pandas the grouping columns will be excluded from the operation. Either pass `include_groups=False` to exclude the groupings or explicitly select the grouping columns after groupby to silence this warning.\n",
      "  outliers = data.groupby('version').apply(detect_outliers).reset_index(drop=True)\n"
     ]
    },
    {
     "data": {
      "image/png": "[encoded data removed]",
      "text/plain": [
       "<Figure size 1000x600 with 1 Axes>"
      ]
     },
     "metadata": {},
     "output_type": "display_data"
    }
   ],
   "source": [
    "def detect_outliers(group):\n",
    "    Q1 = group['sum_gamerounds'].quantile(0.25)\n",
    "    Q3 = group['sum_gamerounds'].quantile(0.75)\n",
    "    IQR = Q3 - Q1\n",
    "\n",
    "    lower_bound = Q1 - 1.5 * IQR\n",
    "    upper_bound = Q3 + 1.5 * IQR\n",
    "\n",
    "    outliers = group[(group['sum_gamerounds'] < lower_bound) | \n",
    "                     (group['sum_gamerounds'] > upper_bound)]\n",
    "    \n",
    "    print(f\"Promotion {group['version'].iloc[0]} - Outliers: {len(outliers)}\")\n",
    "    return outliers\n",
    "\n",
    "outliers = data.groupby('version').apply(detect_outliers).reset_index(drop=True)\n",
    "\n",
    "plt.figure(figsize=(10, 6))\n",
    "sns.boxplot(x='version', y='sum_gamerounds', data=data)\n",
    "plt.title('Game Rounds Distribution by Version (with Outliers Highlighted)')\n",
    "plt.show()\n"
   ]
  },
  {
   "cell_type": "code",
   "execution_count": 8,
   "id": "58f2c68c-64c1-487e-bd9f-990de7565158",
   "metadata": {},
   "outputs": [
    {
     "name": "stdout",
     "output_type": "stream",
     "text": [
      "Promotion gate_30 - Removed Outliers: 4921\n",
      "Promotion gate_40 - Removed Outliers: 4727\n"
     ]
    },
    {
     "name": "stderr",
     "output_type": "stream",
     "text": [
      "C:\\Users\\david\\AppData\\Local\\Temp\\ipykernel_17188\\398560823.py:15: DeprecationWarning: DataFrameGroupBy.apply operated on the grouping columns. This behavior is deprecated, and in a future version of pandas the grouping columns will be excluded from the operation. Either pass `include_groups=False` to exclude the groupings or explicitly select the grouping columns after groupby to silence this warning.\n",
      "  data = data.groupby('version', group_keys=False).apply(remove_outliers)\n"
     ]
    }
   ],
   "source": [
    "def remove_outliers(group):\n",
    "    Q1 = group['sum_gamerounds'].quantile(0.25)\n",
    "    Q3 = group['sum_gamerounds'].quantile(0.75)\n",
    "    IQR = Q3 - Q1\n",
    "\n",
    "    lower_bound = Q1 - 1.5 * IQR\n",
    "    upper_bound = Q3 + 1.5 * IQR\n",
    "\n",
    "    filtered_group = group[(group['sum_gamerounds'] >= lower_bound) & \n",
    "                           (group['sum_gamerounds'] <= upper_bound)]\n",
    "    \n",
    "    print(f\"Promotion {group['version'].iloc[0]} - Removed Outliers: {len(group) - len(filtered_group)}\")\n",
    "    return filtered_group\n",
    "\n",
    "data = data.groupby('version', group_keys=False).apply(remove_outliers)"
   ]
  },
  {
   "cell_type": "markdown",
   "id": "0c77587c-bf5d-4d7a-80fd-0c2c18f1420a",
   "metadata": {},
   "source": [
    "## Exploratory Data Analysis"
   ]
  },
  {
   "cell_type": "markdown",
   "id": "a144ef59-facd-4073-b511-1806765d63ac",
   "metadata": {},
   "source": [
    "Below we can see that even after removing significant outliers, there is still a very thin long tail when it comes to high values. One could consider removing this, but as we have already cleaned the data on numerous measures, I choose to maintain this.\n",
    "\n",
    "As we can also see, the group with the gate placed at level 40 also has a slightly higher mean of games played (M = 26.30) versus when placed at level 30 (M = 25.54). Later we will test to see if this is significant.\n",
    "\n",
    "We also see that there are slight differences in terms of the mean retention time of players. Namely, the group with the gate placed at level 30 shows a slight increase in the percentage of times the user returns to the game after a period of time. Specifically, 40.96% of users returned after 1 day versus 40.71% for the other group. Similarly, 12.56% returned after 7 days in the group with the gate placed at level 30, versus 11.99% with the other group. These differences are incredibly slight. Regardless, they will also be tested later to see if they are significant."
   ]
  },
  {
   "cell_type": "code",
   "execution_count": 9,
   "id": "1a98bc64-da4a-4591-a15a-1ed10fe660a7",
   "metadata": {},
   "outputs": [
    {
     "data": {
      "image/png": "[encoded data removed]",
      "text/plain": [
       "<Figure size 1200x600 with 1 Axes>"
      ]
     },
     "metadata": {},
     "output_type": "display_data"
    }
   ],
   "source": [
    "plt.figure(figsize=(12, 6))\n",
    "plt.subplot(1, 2, 2)\n",
    "sns.violinplot(x='version', y='sum_gamerounds', data=data)\n",
    "plt.title(\"Violing Plot of Data After Removing Outliers \")\n",
    "\n",
    "plt.tight_layout()\n",
    "plt.show()\n"
   ]
  },
  {
   "cell_type": "code",
   "execution_count": 10,
   "id": "8ceaf2ba-fb2b-43ef-b843-84cac68e3430",
   "metadata": {},
   "outputs": [
    {
     "data": {
      "text/html": [
       "<div>\n",
       "<style scoped>\n",
       "    .dataframe tbody tr th:only-of-type {\n",
       "        vertical-align: middle;\n",
       "    }\n",
       "\n",
       "    .dataframe tbody tr th {\n",
       "        vertical-align: top;\n",
       "    }\n",
       "\n",
       "    .dataframe thead th {\n",
       "        text-align: right;\n",
       "    }\n",
       "</style>\n",
       "<table border=\"1\" class=\"dataframe\">\n",
       "  <thead>\n",
       "    <tr style=\"text-align: right;\">\n",
       "      <th></th>\n",
       "      <th>version</th>\n",
       "      <th>sum_gamerounds</th>\n",
       "    </tr>\n",
       "  </thead>\n",
       "  <tbody>\n",
       "    <tr>\n",
       "      <th>0</th>\n",
       "      <td>gate_30</td>\n",
       "      <td>25.536256</td>\n",
       "    </tr>\n",
       "    <tr>\n",
       "      <th>1</th>\n",
       "      <td>gate_40</td>\n",
       "      <td>26.295595</td>\n",
       "    </tr>\n",
       "  </tbody>\n",
       "</table>\n",
       "</div>"
      ],
      "text/plain": [
       "   version  sum_gamerounds\n",
       "0  gate_30       25.536256\n",
       "1  gate_40       26.295595"
      ]
     },
     "execution_count": 10,
     "metadata": {},
     "output_type": "execute_result"
    }
   ],
   "source": [
    "version_sum = data.groupby('version')['sum_gamerounds'].mean().reset_index()\n",
    "version_sum"
   ]
  },
  {
   "cell_type": "code",
   "execution_count": 11,
   "id": "b4788daf-7053-4641-b7d9-11f1bffaa266",
   "metadata": {},
   "outputs": [
    {
     "data": {
      "text/html": [
       "<div>\n",
       "<style scoped>\n",
       "    .dataframe tbody tr th:only-of-type {\n",
       "        vertical-align: middle;\n",
       "    }\n",
       "\n",
       "    .dataframe tbody tr th {\n",
       "        vertical-align: top;\n",
       "    }\n",
       "\n",
       "    .dataframe thead th {\n",
       "        text-align: right;\n",
       "    }\n",
       "</style>\n",
       "<table border=\"1\" class=\"dataframe\">\n",
       "  <thead>\n",
       "    <tr style=\"text-align: right;\">\n",
       "      <th></th>\n",
       "      <th>version</th>\n",
       "      <th>retention_1</th>\n",
       "    </tr>\n",
       "  </thead>\n",
       "  <tbody>\n",
       "    <tr>\n",
       "      <th>0</th>\n",
       "      <td>gate_30</td>\n",
       "      <td>0.409624</td>\n",
       "    </tr>\n",
       "    <tr>\n",
       "      <th>1</th>\n",
       "      <td>gate_40</td>\n",
       "      <td>0.407105</td>\n",
       "    </tr>\n",
       "  </tbody>\n",
       "</table>\n",
       "</div>"
      ],
      "text/plain": [
       "   version  retention_1\n",
       "0  gate_30     0.409624\n",
       "1  gate_40     0.407105"
      ]
     },
     "execution_count": 11,
     "metadata": {},
     "output_type": "execute_result"
    }
   ],
   "source": [
    "retention_1 = data.groupby('version')['retention_1'].mean().reset_index()\n",
    "retention_1"
   ]
  },
  {
   "cell_type": "code",
   "execution_count": 12,
   "id": "b25943a3-a5fb-4fb0-8c8b-06702a37dacd",
   "metadata": {},
   "outputs": [
    {
     "data": {
      "text/html": [
       "<div>\n",
       "<style scoped>\n",
       "    .dataframe tbody tr th:only-of-type {\n",
       "        vertical-align: middle;\n",
       "    }\n",
       "\n",
       "    .dataframe tbody tr th {\n",
       "        vertical-align: top;\n",
       "    }\n",
       "\n",
       "    .dataframe thead th {\n",
       "        text-align: right;\n",
       "    }\n",
       "</style>\n",
       "<table border=\"1\" class=\"dataframe\">\n",
       "  <thead>\n",
       "    <tr style=\"text-align: right;\">\n",
       "      <th></th>\n",
       "      <th>version</th>\n",
       "      <th>retention_7</th>\n",
       "    </tr>\n",
       "  </thead>\n",
       "  <tbody>\n",
       "    <tr>\n",
       "      <th>0</th>\n",
       "      <td>gate_30</td>\n",
       "      <td>0.125628</td>\n",
       "    </tr>\n",
       "    <tr>\n",
       "      <th>1</th>\n",
       "      <td>gate_40</td>\n",
       "      <td>0.119933</td>\n",
       "    </tr>\n",
       "  </tbody>\n",
       "</table>\n",
       "</div>"
      ],
      "text/plain": [
       "   version  retention_7\n",
       "0  gate_30     0.125628\n",
       "1  gate_40     0.119933"
      ]
     },
     "execution_count": 12,
     "metadata": {},
     "output_type": "execute_result"
    }
   ],
   "source": [
    "retention_7 = data.groupby('version')['retention_7'].mean().reset_index()\n",
    "retention_7"
   ]
  },
  {
   "cell_type": "markdown",
   "id": "fd6b0b42-3e17-4415-91a1-1649be01124b",
   "metadata": {},
   "source": [
    "# Checking for Significance - Why an Independent Samples T-test is Ill-Fitting"
   ]
  },
  {
   "cell_type": "markdown",
   "id": "37a4f04b-0e34-4c62-8703-74631b46b6f8",
   "metadata": {},
   "source": [
    "Next I check a variety of assumptions to underline why an independent samples t-test is not fitting. This is regrettable, as the parametric test does hold a higher degree of robustness compared to non-parametric tests.  "
   ]
  },
  {
   "cell_type": "markdown",
   "id": "d31b3b85-d7b5-4407-8bd2-ddfac144d355",
   "metadata": {},
   "source": [
    "### Checking for Normality"
   ]
  },
  {
   "cell_type": "markdown",
   "id": "5dc62547-bdc7-49c7-b155-0bbbccab954a",
   "metadata": {},
   "source": [
    "First, I check to see whether the assumption of normality is upheld. To do this, I use the Kolmogorov-Smirnov test instead of the Shapiro Wilkes Test, as we can see that there is a very large sample, which the latter test is less robust for. So I standardize the data (mean = 0, STD = 1) to live up to the assumption of the test, and then I run it. I also generate Q-Q Plots and display their histograms. \n",
    "However, all these measurements indicates how the results truly are not normally distributed.\n",
    "\n",
    "Regardless, as can be seen, both groups immensely fail the  test for normality. In fact, the data appears to look very much like an exponential curve.\n",
    "\n",
    "Furthermore, we can see that the vast majority of games played appears to be in the region of 1 -10, with the rest decreasing exponentially in frequency."
   ]
  },
  {
   "cell_type": "code",
   "execution_count": 13,
   "id": "6c03a279-cf52-43ec-8b5f-2f6de8624489",
   "metadata": {},
   "outputs": [
    {
     "name": "stdout",
     "output_type": "stream",
     "text": [
      "Version gate_30: p-value = 0.0000\n",
      "→ Version gate_30 shows data is NOT normally distributed.\n",
      "Version gate_40: p-value = 0.0000\n",
      "→ Version gate_40 shows data is NOT normally distributed.\n"
     ]
    },
    {
     "data": {
      "image/png": "[encoded data removed]",
      "text/plain": [
       "<Figure size 1200x400 with 2 Axes>"
      ]
     },
     "metadata": {},
     "output_type": "display_data"
    }
   ],
   "source": [
    "plt.figure(figsize=(12, 4))\n",
    "\n",
    "for i, game in enumerate([\"gate_30\", \"gate_40\"], 1):\n",
    "    game_data = data[data['version'] == game]['sum_gamerounds']\n",
    "    \n",
    "    standardized_data = (game_data - game_data.mean()) / game_data.std()\n",
    "    \n",
    "    stat, p_value = stats.kstest(standardized_data, 'norm')\n",
    "    print(f\"Version {game}: p-value = {p_value:.4f}\")\n",
    "\n",
    "    if p_value < 0.05:\n",
    "        print(f\"→ Version {game} shows data is NOT normally distributed.\")\n",
    "    else:\n",
    "        print(f\"→ Version {game} shows data appears normally distributed.\")\n",
    "    \n",
    "    plt.subplot(1, 2, i) \n",
    "    stats.probplot(standardized_data, dist='norm', plot=plt)\n",
    "    plt.title(f'Q-Q Plot - {game}')\n",
    "\n",
    "plt.tight_layout()\n",
    "plt.show()\n"
   ]
  },
  {
   "cell_type": "code",
   "execution_count": 14,
   "id": "db7b6d1b-755b-48a2-b930-d0a132e268df",
   "metadata": {},
   "outputs": [
    {
     "data": {
      "image/png": "[encoded data removed]",
      "text/plain": [
       "<Figure size 1000x800 with 2 Axes>"
      ]
     },
     "metadata": {},
     "output_type": "display_data"
    }
   ],
   "source": [
    "games = [\"gate_30\", \"gate_40\"]\n",
    "\n",
    "plt.figure(figsize=(10, 8))\n",
    "\n",
    "for i, game in enumerate(games):\n",
    "    game_data = data[data['version'] == game]['sum_gamerounds']\n",
    "    \n",
    "    plt.subplot(2, 2, i + 1)  \n",
    "    sns.histplot(game_data, kde=True, bins=15)\n",
    "    plt.xlim(game_data.min() - 10, game_data.max() + 10)  \n",
    "    max_count = game_data.value_counts().max()\n",
    "    plt.ylim(0, max_count + max_count * 5)\n",
    "    plt.title(f'Histogram - {game}', fontsize=14)\n",
    "\n",
    "plt.tight_layout()\n",
    "plt.show()\n"
   ]
  },
  {
   "cell_type": "markdown",
   "id": "a785fb8f-7da1-4357-a3f8-cd12b8b8ce0d",
   "metadata": {},
   "source": [
    "### Checking for Independence"
   ]
  },
  {
   "cell_type": "markdown",
   "id": "aa965ce2-5aff-473f-93dd-a9b4f4fde3af",
   "metadata": {},
   "source": [
    "This step sadly cannot be investigated much further, as we do not know anything about how the sample was drawn, or how different the stimuli was in the promotions. This harms our model, as we cannot speak with confidence about this key assumption.\n",
    "\n",
    "We can of course say that independence is upheld in the regard that we assume each player to be independent from the next player. However, again, we do not know the sources of the sourcing, and it could well be that several of these game players are bots, perhaps numerous of which with the same underlying game code for operating. Or, it could be that several people have several accounts. These are just some ways in which the data cannot easily be checked on this level."
   ]
  },
  {
   "cell_type": "markdown",
   "id": "5a5cd38f-ef35-41fb-a4f0-041f669b5ba3",
   "metadata": {},
   "source": [
    " # Running a Mann-Whitney U Test to Study Link Between Game Rounds Played and Version of Game"
   ]
  },
  {
   "cell_type": "markdown",
   "id": "7e21f681-1f62-46e3-ac9e-12c1b662b511",
   "metadata": {},
   "source": [
    "On the basis of the aforementioned findings, I instead proceed with a Mann-Whitney U test, which does not require normality. Instead, the assumptions of this test are as follows:\n",
    "- Independent samples - this is difficult to ascertain based on our analytical position outside the sampling process and being unfamiliar with the game mechanics. As such, it is ignored.\n",
    "- Measurement level of ordinal or continuous data - this is lived up to by the number of games a player plays being continuous\n",
    "- Similar distributions - this is lived up to, as shown by the earlier histograms.\n",
    "- Homogeneity of Variance - As shown below, this assumption is *violated*! However, we continue in spite of this, as this is a less important assumption in the model. While still being noteworthy, a violation of this assumption is not as drastic in comparison to when happing for parametric tests, and is also mostly of consequence in the tails of the distribution - which were earlier shown to be very small. Consequently, we move on.\n",
    "\n",
    "The hypotheses that are being tested here are:\n",
    "\n",
    "- H0: There *is no* significant difference in the number of games played between when the gate was placed in the game.\n",
    "- H1: There *is* a significant in the number of games played between when the gate was placed in the game.\n",
    "\n",
    "However, as can be seen, there is no significant difference between the two groups (p = 0.88), thus supporting the null hypothesis. As a consequence, I will not proceed with giving descriptive statistics of this data."
   ]
  },
  {
   "cell_type": "code",
   "execution_count": 15,
   "id": "e8683717-c631-4676-a9e3-19e55f47ea48",
   "metadata": {},
   "outputs": [
    {
     "name": "stdout",
     "output_type": "stream",
     "text": [
      "Levene's test statistic = 26.514549533597595\n",
      "Levene's p-value = 0.0000\n",
      "→ The variances are significantly different between the two versions (violating homogeneity assumption).\n"
     ]
    }
   ],
   "source": [
    "group_1 = data[data['version'] == 'gate_30']['sum_gamerounds']\n",
    "group_2 = data[data['version'] == 'gate_40']['sum_gamerounds']\n",
    "\n",
    "stat, p_value_levene = stats.levene(group_1, group_2)\n",
    "\n",
    "print(f\"Levene's test statistic = {stat}\")\n",
    "print(f\"Levene's p-value = {p_value_levene:.4f}\")\n",
    "\n",
    "if p_value_levene < 0.05:\n",
    "    print(\"→ The variances are significantly different between the two versions (violating homogeneity assumption).\")\n",
    "else:\n",
    "    print(\"→ The variances are not significantly different between the two versions (homogeneity assumption holds).\")\n"
   ]
  },
  {
   "cell_type": "code",
   "execution_count": 16,
   "id": "026e9b07-fa8b-4dff-84ce-712228b08011",
   "metadata": {},
   "outputs": [
    {
     "name": "stdout",
     "output_type": "stream",
     "text": [
      "U-statistic = 732786682.0\n",
      "p-value = 0.8831\n",
      "→ There is no significant difference between the two game versions.\n"
     ]
    }
   ],
   "source": [
    "stat, p_value = stats.mannwhitneyu(group_1, group_2)\n",
    "\n",
    "print(f\"U-statistic = {stat}\")\n",
    "print(f\"p-value = {p_value:.4f}\")\n",
    "\n",
    "if p_value < 0.05:\n",
    "    print(\"→ There is a significant difference between the two game versions.\")\n",
    "else:\n",
    "    print(\"→ There is no significant difference between the two game versions.\")\n"
   ]
  },
  {
   "cell_type": "markdown",
   "id": "22fa96e8-8cc6-44b0-bd04-c1994003d781",
   "metadata": {},
   "source": [
    "# Testing for Links Between Retention and Game Version"
   ]
  },
  {
   "cell_type": "markdown",
   "id": "37b8046c-6a1e-4698-ab3a-c899f9c1ebea",
   "metadata": {},
   "source": [
    "Next we test to see whether there was any link between game version and the retention of users over time. In doing so, there are two tests to run - between game version and 1) retention after 1 day, and 2) retention after 7 days. In doing this, I will use a Chi-Square Test of Independence. This is as it is one of the only non-parametric tests that fit this data. This can be shown through being defined by the assumption of the test, which are:\n",
    "- Categorical data - This data is either a 1 or a 0 (true or false), and there are only two nominal groups of game versions.\n",
    "- Independence of observations - as noted earlier, this mostly has to be ignored.\n",
    "- Random Sampling - Similarly, this also has to be ignored, as we cannot know.\n",
    "- Sufficient sample size - We need to have at least 5 in each group. As we work with thousands, this is of no issue.\n",
    "- Mutually exclusive groups - this is upheld, as participants were only in one group.\n",
    "\n",
    "The hypotheses being tested here are:\n",
    "- H0: There *is no* significant difference in retention rates between when the gate was placed in the game.\n",
    "- H1: There *is* a significant in retention rates between when the gate was placed in the game.\n",
    "\n",
    "As the results show, only one of these tests indicates significance - namely the relationship between when the gate was placed and whether the user returned after 7 days (p < 0.05). As discussed earlier, 12.56% returned after 7 days in the group with the gate placed at level 30, versus 11.99% in the group where the gate was placed at level 40. These differences are incredibly slight. Regardless, it's the only significant finding in all the data."
   ]
  },
  {
   "cell_type": "code",
   "execution_count": 17,
   "id": "45ecd616-9541-4506-8663-742834434df8",
   "metadata": {
    "scrolled": true
   },
   "outputs": [
    {
     "name": "stdout",
     "output_type": "stream",
     "text": [
      "Chi-Square statistic for retention_1 and version = 0.4922\n",
      "p-value for retention_1 and version = 0.4829\n",
      "→ There is no significant association between retention_1 and version.\n",
      "Chi-Square statistic for retention_7 and version = 5.7100\n",
      "p-value for retention_7 and version = 0.0169\n",
      "→ There is a significant association between retention_7 and version.\n"
     ]
    }
   ],
   "source": [
    "contingency_retention_1 = pd.crosstab(data['retention_1'], data['version'])\n",
    "\n",
    "chi2_stat_1, p_value_1, dof_1, expected_1 = stats.chi2_contingency(contingency_retention_1)\n",
    "\n",
    "print(f\"Chi-Square statistic for retention_1 and version = {chi2_stat_1:.4f}\")\n",
    "print(f\"p-value for retention_1 and version = {p_value_1:.4f}\")\n",
    "if p_value_1 < 0.05:\n",
    "    print(\"→ There is a significant association between retention_1 and version.\")\n",
    "else:\n",
    "    print(\"→ There is no significant association between retention_1 and version.\")\n",
    "\n",
    "contingency_retention_7 = pd.crosstab(data['retention_7'], data['version'])\n",
    "\n",
    "chi2_stat_7, p_value_7, dof_7, expected_7 = stats.chi2_contingency(contingency_retention_7)\n",
    "\n",
    "print(f\"Chi-Square statistic for retention_7 and version = {chi2_stat_7:.4f}\")\n",
    "print(f\"p-value for retention_7 and version = {p_value_7:.4f}\")\n",
    "if p_value_7 < 0.05:\n",
    "    print(\"→ There is a significant association between retention_7 and version.\")\n",
    "else:\n",
    "    print(\"→ There is no significant association between retention_7 and version.\")\n"
   ]
  },
  {
   "cell_type": "markdown",
   "id": "4a63c13d-58c0-4f87-974b-54bbd6eb7187",
   "metadata": {},
   "source": [
    "# Conclusion"
   ]
  },
  {
   "cell_type": "markdown",
   "id": "bc9c9917-dea1-4290-a7a4-8330b879ee89",
   "metadata": {},
   "source": [
    "In summary, the A/B test shows that there is no significant difference between the two strategies. Consequently, there is no indication that, based on this data, one approach is more successful than driving total amount of user games than the other. \n",
    "\n",
    "One could argue that the non-parametric test holds lower validity - which is a general rule of thumb. However, considering that no assumptions of this model are violated, as well as the fact that this test holds up *exceptionally well* in cases of large samples - which is the case here, based on the histograms - this is a minor point of improvement. Regardless, one could attempt to transform the data in a way that could be manipulated by parametric tests. However, this is outside the scope of my abilities, and the nature of, say, log-transformed data, also makes for less concrete interpretations.\n",
    "\n",
    "When analyzing whether there was an association between user retention and game version, there was indeed a significant, albeit incredibly slight difference in retention rate. It is important to mention that since we were working with a very large dataset, which makes the tests more sensitive to finding differences. So it is important to consider, especially in light of the scale of the effect, whether this holds any *practical significance*."
   ]
  }
 ],
 "metadata": {
  "kernelspec": {
   "display_name": "Python 3 (ipykernel)",
   "language": "python",
   "name": "python3"
  },
  "language_info": {
   "codemirror_mode": {
    "name": "ipython",
    "version": 3
   },
   "file_extension": ".py",
   "mimetype": "text/x-python",
   "name": "python",
   "nbconvert_exporter": "python",
   "pygments_lexer": "ipython3",
   "version": "3.12.3"
  }
 },
 "nbformat": 4,
 "nbformat_minor": 5
}
